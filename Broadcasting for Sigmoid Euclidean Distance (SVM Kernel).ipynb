{
 "cells": [
  {
   "cell_type": "code",
   "execution_count": 15,
   "metadata": {},
   "outputs": [
    {
     "name": "stdout",
     "output_type": "stream",
     "text": [
      "[1 2 3]\n",
      "[[1]\n",
      " [2]\n",
      " [3]]\n",
      "[[1 2 3]]\n",
      "[[1]\n",
      " [2]\n",
      " [3]]\n",
      "[[1]\n",
      " [2]\n",
      " [3]]\n"
     ]
    }
   ],
   "source": [
    "import numpy as np\n",
    "\n",
    "x1 = np.array([1,2,3])\n",
    "x2 = np.array([4,5])\n",
    "print(x1)\n",
    "x3 = x1[:, np.newaxis]\n",
    "print(x3)\n",
    "x4 = np.transpose(x3)\n",
    "print(x4)\n",
    "x5 = np.transpose(x4)\n",
    "print(x5)\n",
    "x6 = x1.reshape((3,1))\n",
    "print(x6)\n",
    "# np.add(x1, x2)"
   ]
  },
  {
   "cell_type": "code",
   "execution_count": 41,
   "metadata": {},
   "outputs": [
    {
     "name": "stdout",
     "output_type": "stream",
     "text": [
      "x3: \n",
      "[[[ 1  2  1]]\n",
      "\n",
      " [[ 0  4 -1]]]\n",
      "x4: \n",
      "[[[ 1  2  1]\n",
      "  [ 0  4 -1]]]\n"
     ]
    }
   ],
   "source": [
    "x1 = np.array([[1,2,1],[0,4,-1]])\n",
    "x2 = np.array([[1,2,1],[0,4,-1]])\n",
    "\n",
    "x3 = x1.reshape((x1.shape[0], -1, x1.shape[1]))\n",
    "x4 = x2.reshape((-1, x2.shape[0], x2.shape[1]))\n",
    "\n",
    "# print(x3.shape) # (2,1,3)\n",
    "print(\"x3: \",)\n",
    "print(x3)\n",
    "# print(x4.shape) # (1,2,3)\n",
    "print(\"x4: \",)\n",
    "print(x4)"
   ]
  },
  {
   "cell_type": "code",
   "execution_count": 49,
   "metadata": {},
   "outputs": [],
   "source": [
    "x5 = x3 - x4\n",
    "# x6 = np.sum(x5**2, axis = 0) # This produces wrong value with the shape (2,3)\n",
    "# print(x6)\n",
    "# print(x6.shape)\n",
    "# x7 = np.sum(x5**2, axis = 1) # This produces wrong value (same as above) with the shape (2,3)\n",
    "# print(x7)\n",
    "# print(x7.shape)\n",
    "# np.sum(x5**2, axis = -1) # This reduces the shape to (2,2) "
   ]
  },
  {
   "cell_type": "markdown",
   "metadata": {},
   "source": [
    "Implementing sigmoid function for SVM kernel"
   ]
  },
  {
   "cell_type": "code",
   "execution_count": 51,
   "metadata": {},
   "outputs": [
    {
     "name": "stdout",
     "output_type": "stream",
     "text": [
      "[[1.         0.32465247]\n",
      " [0.32465247 1.        ]]\n"
     ]
    }
   ],
   "source": [
    "sigma = 2\n",
    "sim = np.exp(- np.sum(x5**2, axis = -1)/(2*sigma*2))\n",
    "print(sim)"
   ]
  }
 ],
 "metadata": {
  "kernelspec": {
   "display_name": "Python 3",
   "language": "python",
   "name": "python3"
  },
  "language_info": {
   "codemirror_mode": {
    "name": "ipython",
    "version": 3
   },
   "file_extension": ".py",
   "mimetype": "text/x-python",
   "name": "python",
   "nbconvert_exporter": "python",
   "pygments_lexer": "ipython3",
   "version": "3.7.1"
  }
 },
 "nbformat": 4,
 "nbformat_minor": 2
}
